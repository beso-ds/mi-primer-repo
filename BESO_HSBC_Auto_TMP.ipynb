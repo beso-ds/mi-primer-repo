{
 "cells": [
  {
   "cell_type": "markdown",
   "source": "![GIG](images/BESO_Logo_0.png)",
   "metadata": {
    "cell_id": "b1ac8954-de2d-4b62-9e69-b7b96f522ce5",
    "deepnote_cell_type": "markdown",
    "deepnote_cell_height": 196.84375
   }
  },
  {
   "cell_type": "markdown",
   "source": "# BESO HSBC Proyecto\n---",
   "metadata": {
    "cell_id": "00001-a0c109e7-9a81-43f5-8daf-ea73ec675bc3",
    "deepnote_cell_type": "markdown",
    "deepnote_cell_height": 99
   }
  },
  {
   "cell_type": "markdown",
   "source": "Este es el notebook de ejemplo en el cual aprenderemos a usar pandas y Googlr SpreadSheet",
   "metadata": {
    "cell_id": "00002-41a1fb8d-6a06-4194-9c76-0ff781a0e827",
    "deepnote_cell_type": "markdown",
    "deepnote_cell_height": 52.390625
   }
  },
  {
   "cell_type": "code",
   "metadata": {
    "cell_id": "00004-636ebdfc-3dd9-4c7f-a050-a94c6e1e56ba",
    "deepnote_to_be_reexecuted": true,
    "source_hash": "5e20a7f7",
    "execution_start": 1650646163204,
    "execution_millis": 6,
    "owner_user_id": "4a0dedad-8e91-4744-aa70-0b91f7ece080",
    "deepnote_cell_type": "code",
    "deepnote_cell_height": 118.1875,
    "deepnote_output_heights": [
     21.1875
    ]
   },
   "source": "",
   "outputs": [
    {
     "output_type": "execute_result",
     "execution_count": 1,
     "data": {
      "text/plain": "8"
     },
     "metadata": {}
    }
   ],
   "execution_count": null
  },
  {
   "cell_type": "code",
   "source": "import pandas as pd",
   "metadata": {
    "cell_id": "e780df91846f449c83e679efc030de47",
    "tags": [],
    "deepnote_to_be_reexecuted": false,
    "source_hash": "9b82ee11",
    "execution_start": 1650647312106,
    "execution_millis": 4,
    "deepnote_cell_type": "code",
    "deepnote_cell_height": 81
   },
   "outputs": [],
   "execution_count": 3
  },
  {
   "cell_type": "code",
   "source": "sheet_id = \"1WaMkjJOYK_Ql-PKyIn6ssUm7fK70GqupMkHuB_xtm30\"\nsheet_name = \"Nosotros\"\nurl = f\"https://docs.google.com/spreadsheets/d/{sheet_id}/gviz/tq?tqx=out:csv&sheet={sheet_name}\"",
   "metadata": {
    "cell_id": "d6b8731dafbc4f91a335dbfd934a90db",
    "tags": [],
    "deepnote_to_be_reexecuted": false,
    "source_hash": "fc8bebfb",
    "execution_start": 1650647752787,
    "execution_millis": 9,
    "deepnote_cell_type": "code",
    "deepnote_cell_height": 117
   },
   "outputs": [],
   "execution_count": 5
  },
  {
   "cell_type": "code",
   "source": "url",
   "metadata": {
    "cell_id": "eab2a772c7424ca8be4cee208aa31911",
    "tags": [],
    "deepnote_to_be_reexecuted": false,
    "source_hash": "bb8a3d40",
    "execution_start": 1650647772400,
    "execution_millis": 12,
    "deepnote_cell_type": "code",
    "deepnote_cell_height": 118.1875,
    "deepnote_output_heights": [
     21.1875
    ]
   },
   "outputs": [
    {
     "output_type": "execute_result",
     "execution_count": 6,
     "data": {
      "text/plain": "'https://docs.google.com/spreadsheets/d/1WaMkjJOYK_Ql-PKyIn6ssUm7fK70GqupMkHuB_xtm30/gviz/tq?tqx=out:csv&sheet=Nosotros'"
     },
     "metadata": {}
    }
   ],
   "execution_count": 6
  },
  {
   "cell_type": "code",
   "source": "nosotros_df = pd.read_csv(url)",
   "metadata": {
    "cell_id": "3806cbae340b4cee94b29fcc4df39cc8",
    "tags": [],
    "deepnote_to_be_reexecuted": false,
    "source_hash": "f434d49",
    "execution_start": 1650648071150,
    "execution_millis": 190,
    "deepnote_cell_type": "code",
    "deepnote_cell_height": 81
   },
   "outputs": [],
   "execution_count": 13
  },
  {
   "cell_type": "code",
   "source": "",
   "metadata": {
    "cell_id": "98532abe558148b38df87d872f7e8bc1",
    "tags": [],
    "deepnote_cell_type": "code",
    "deepnote_cell_height": 66
   },
   "outputs": [],
   "execution_count": null
  },
  {
   "cell_type": "code",
   "source": "nosotros_df.head()",
   "metadata": {
    "cell_id": "3317ba7a2b1f433697520442fd4f682f",
    "tags": [],
    "deepnote_to_be_reexecuted": false,
    "source_hash": "7e039a7b",
    "execution_start": 1650648073038,
    "execution_millis": 52,
    "deepnote_cell_type": "code",
    "deepnote_cell_height": 395
   },
   "outputs": [
    {
     "output_type": "execute_result",
     "execution_count": 14,
     "data": {
      "application/vnd.deepnote.dataframe.v3+json": {
       "column_count": 6,
       "row_count": 5,
       "columns": [
        {
         "name": "Nombre",
         "dtype": "object",
         "stats": {
          "unique_count": 5,
          "nan_count": 0,
          "categories": [
           {
            "name": "Raul",
            "count": 1
           },
           {
            "name": "Aleph",
            "count": 1
           },
           {
            "name": "3 others",
            "count": 3
           }
          ]
         }
        },
        {
         "name": "Apellido",
         "dtype": "object",
         "stats": {
          "unique_count": 5,
          "nan_count": 0,
          "categories": [
           {
            "name": "Castillo",
            "count": 1
           },
           {
            "name": "González",
            "count": 1
           },
           {
            "name": "3 others",
            "count": 3
           }
          ]
         }
        },
        {
         "name": "Edad",
         "dtype": "int64",
         "stats": {
          "unique_count": 4,
          "nan_count": 0,
          "min": "25",
          "max": "38",
          "histogram": [
           {
            "bin_start": 25,
            "bin_end": 26.3,
            "count": 2
           },
           {
            "bin_start": 26.3,
            "bin_end": 27.6,
            "count": 0
           },
           {
            "bin_start": 27.6,
            "bin_end": 28.9,
            "count": 0
           },
           {
            "bin_start": 28.9,
            "bin_end": 30.2,
            "count": 0
           },
           {
            "bin_start": 30.2,
            "bin_end": 31.5,
            "count": 0
           },
           {
            "bin_start": 31.5,
            "bin_end": 32.8,
            "count": 2
           },
           {
            "bin_start": 32.8,
            "bin_end": 34.1,
            "count": 0
           },
           {
            "bin_start": 34.1,
            "bin_end": 35.4,
            "count": 0
           },
           {
            "bin_start": 35.4,
            "bin_end": 36.7,
            "count": 0
           },
           {
            "bin_start": 36.7,
            "bin_end": 38,
            "count": 1
           }
          ]
         }
        },
        {
         "name": "Hobby",
         "dtype": "object",
         "stats": {
          "unique_count": 5,
          "nan_count": 0,
          "categories": [
           {
            "name": "Ejercicio",
            "count": 1
           },
           {
            "name": "Leer",
            "count": 1
           },
           {
            "name": "3 others",
            "count": 3
           }
          ]
         }
        },
        {
         "name": "Altura",
         "dtype": "int64",
         "stats": {
          "unique_count": 5,
          "nan_count": 0,
          "min": "0",
          "max": "178",
          "histogram": [
           {
            "bin_start": 0,
            "bin_end": 17.8,
            "count": 1
           },
           {
            "bin_start": 17.8,
            "bin_end": 35.6,
            "count": 0
           },
           {
            "bin_start": 35.6,
            "bin_end": 53.400000000000006,
            "count": 0
           },
           {
            "bin_start": 53.400000000000006,
            "bin_end": 71.2,
            "count": 0
           },
           {
            "bin_start": 71.2,
            "bin_end": 89,
            "count": 0
           },
           {
            "bin_start": 89,
            "bin_end": 106.80000000000001,
            "count": 0
           },
           {
            "bin_start": 106.80000000000001,
            "bin_end": 124.60000000000001,
            "count": 0
           },
           {
            "bin_start": 124.60000000000001,
            "bin_end": 142.4,
            "count": 0
           },
           {
            "bin_start": 142.4,
            "bin_end": 160.20000000000002,
            "count": 1
           },
           {
            "bin_start": 160.20000000000002,
            "bin_end": 178,
            "count": 3
           }
          ]
         }
        },
        {
         "name": "Carrera",
         "dtype": "object",
         "stats": {
          "unique_count": 5,
          "nan_count": 0,
          "categories": [
           {
            "name": "Mercadotecnia",
            "count": 1
           },
           {
            "name": "Administración",
            "count": 1
           },
           {
            "name": "3 others",
            "count": 3
           }
          ]
         }
        },
        {
         "name": "_deepnote_index_column",
         "dtype": "int64"
        }
       ],
       "rows": [
        {
         "Nombre": "Raul",
         "Apellido": "Castillo",
         "Edad": 32,
         "Hobby": "Ejercicio",
         "Altura": 167,
         "Carrera": "Mercadotecnia",
         "_deepnote_index_column": 0
        },
        {
         "Nombre": "Aleph",
         "Apellido": "González",
         "Edad": 38,
         "Hobby": "Leer",
         "Altura": 171,
         "Carrera": "Administración",
         "_deepnote_index_column": 1
        },
        {
         "Nombre": "Chrystian",
         "Apellido": "Delgado",
         "Edad": 32,
         "Hobby": "Rugby",
         "Altura": 178,
         "Carrera": "Economía",
         "_deepnote_index_column": 2
        },
        {
         "Nombre": "Itzel",
         "Apellido": "NV",
         "Edad": 25,
         "Hobby": "NV",
         "Altura": 0,
         "Carrera": "NV",
         "_deepnote_index_column": 3
        },
        {
         "Nombre": "Jaquie",
         "Apellido": "García",
         "Edad": 26,
         "Hobby": "Nadar",
         "Altura": 160,
         "Carrera": "Actuaría",
         "_deepnote_index_column": 4
        }
       ]
      },
      "text/plain": "      Nombre  Apellido  Edad      Hobby  Altura         Carrera\n0       Raul  Castillo    32  Ejercicio     167   Mercadotecnia\n1      Aleph  González    38       Leer     171  Administración\n2  Chrystian   Delgado    32      Rugby     178        Economía\n3      Itzel        NV    25         NV       0              NV\n4     Jaquie    García    26      Nadar     160        Actuaría",
      "text/html": "<div>\n<style scoped>\n    .dataframe tbody tr th:only-of-type {\n        vertical-align: middle;\n    }\n\n    .dataframe tbody tr th {\n        vertical-align: top;\n    }\n\n    .dataframe thead th {\n        text-align: right;\n    }\n</style>\n<table border=\"1\" class=\"dataframe\">\n  <thead>\n    <tr style=\"text-align: right;\">\n      <th></th>\n      <th>Nombre</th>\n      <th>Apellido</th>\n      <th>Edad</th>\n      <th>Hobby</th>\n      <th>Altura</th>\n      <th>Carrera</th>\n    </tr>\n  </thead>\n  <tbody>\n    <tr>\n      <th>0</th>\n      <td>Raul</td>\n      <td>Castillo</td>\n      <td>32</td>\n      <td>Ejercicio</td>\n      <td>167</td>\n      <td>Mercadotecnia</td>\n    </tr>\n    <tr>\n      <th>1</th>\n      <td>Aleph</td>\n      <td>González</td>\n      <td>38</td>\n      <td>Leer</td>\n      <td>171</td>\n      <td>Administración</td>\n    </tr>\n    <tr>\n      <th>2</th>\n      <td>Chrystian</td>\n      <td>Delgado</td>\n      <td>32</td>\n      <td>Rugby</td>\n      <td>178</td>\n      <td>Economía</td>\n    </tr>\n    <tr>\n      <th>3</th>\n      <td>Itzel</td>\n      <td>NV</td>\n      <td>25</td>\n      <td>NV</td>\n      <td>0</td>\n      <td>NV</td>\n    </tr>\n    <tr>\n      <th>4</th>\n      <td>Jaquie</td>\n      <td>García</td>\n      <td>26</td>\n      <td>Nadar</td>\n      <td>160</td>\n      <td>Actuaría</td>\n    </tr>\n  </tbody>\n</table>\n</div>"
     },
     "metadata": {}
    }
   ],
   "execution_count": 14
  },
  {
   "cell_type": "code",
   "source": "",
   "metadata": {
    "cell_id": "8395cc87758848cc935508e96ca2d835",
    "tags": [],
    "deepnote_cell_type": "code",
    "deepnote_cell_height": 66
   },
   "outputs": [],
   "execution_count": null
  },
  {
   "cell_type": "code",
   "source": "_deepnote_run_altair(nosotros_df, \"\"\"{\"$schema\":\"https://vega.github.io/schema/vega-lite/v4.json\",\"mark\":{\"type\":\"bar\",\"tooltip\":{\"content\":\"data\"}},\"height\":220,\"autosize\":{\"type\":\"fit\"},\"data\":{\"name\":\"placeholder\"},\"encoding\":{\"x\":{\"field\":\"Apellido\",\"type\":\"nominal\",\"sort\":null,\"scale\":{\"type\":\"linear\",\"zero\":false}},\"y\":{\"field\":\"Edad\",\"type\":\"quantitative\",\"sort\":null,\"scale\":{\"type\":\"linear\",\"zero\":true}},\"color\":{\"field\":\"\",\"type\":\"nominal\",\"sort\":null,\"scale\":{\"type\":\"linear\",\"zero\":false}}}}\"\"\")",
   "metadata": {
    "cell_id": "fef111a2fe9d487a9c82233cb400c316",
    "deepnote_variable_name": "nosotros_df",
    "deepnote_visualization_spec": {
     "$schema": "https://vega.github.io/schema/vega-lite/v4.json",
     "mark": {
      "type": "bar",
      "tooltip": {
       "content": "data"
      }
     },
     "height": 220,
     "autosize": {
      "type": "fit"
     },
     "data": {
      "name": "placeholder"
     },
     "encoding": {
      "x": {
       "field": "Apellido",
       "type": "nominal",
       "sort": null,
       "scale": {
        "type": "linear",
        "zero": false
       }
      },
      "y": {
       "field": "Edad",
       "type": "quantitative",
       "sort": null,
       "scale": {
        "type": "linear",
        "zero": true
       }
      },
      "color": {
       "field": "",
       "type": "nominal",
       "sort": null,
       "scale": {
        "type": "linear",
        "zero": false
       }
      }
     }
    },
    "deepnote_to_be_reexecuted": false,
    "source_hash": "76570749",
    "execution_start": 1650647983268,
    "execution_millis": 105,
    "deepnote_cell_type": "visualization"
   },
   "outputs": [
    {
     "output_type": "execute_result",
     "execution_count": 12,
     "data": {
      "text/html": "\n<div id=\"altair-viz-c6c9062df7a64484b141880aa48e9e43\"></div>\n<script type=\"text/javascript\">\n  (function(spec, embedOpt){\n    let outputDiv = document.currentScript.previousElementSibling;\n    if (outputDiv.id !== \"altair-viz-c6c9062df7a64484b141880aa48e9e43\") {\n      outputDiv = document.getElementById(\"altair-viz-c6c9062df7a64484b141880aa48e9e43\");\n    }\n    const paths = {\n      \"vega\": \"https://cdn.jsdelivr.net/npm//vega@5?noext\",\n      \"vega-lib\": \"https://cdn.jsdelivr.net/npm//vega-lib?noext\",\n      \"vega-lite\": \"https://cdn.jsdelivr.net/npm//vega-lite@4.8.1?noext\",\n      \"vega-embed\": \"https://cdn.jsdelivr.net/npm//vega-embed@6?noext\",\n    };\n\n    function loadScript(lib) {\n      return new Promise(function(resolve, reject) {\n        var s = document.createElement('script');\n        s.src = paths[lib];\n        s.async = true;\n        s.onload = () => resolve(paths[lib]);\n        s.onerror = () => reject(`Error loading script: ${paths[lib]}`);\n        document.getElementsByTagName(\"head\")[0].appendChild(s);\n      });\n    }\n\n    function showError(err) {\n      outputDiv.innerHTML = `<div class=\"error\" style=\"color:red;\">${err}</div>`;\n      throw err;\n    }\n\n    function displayChart(vegaEmbed) {\n      vegaEmbed(outputDiv, spec, embedOpt)\n        .catch(err => showError(`Javascript Error: ${err.message}<br>This usually means there's a typo in your chart specification. See the javascript console for the full traceback.`));\n    }\n\n    if(typeof define === \"function\" && define.amd) {\n      requirejs.config({paths});\n      require([\"vega-embed\"], displayChart, err => showError(`Error loading script: ${err.message}`));\n    } else if (typeof vegaEmbed === \"function\") {\n      displayChart(vegaEmbed);\n    } else {\n      loadScript(\"vega\")\n        .then(() => loadScript(\"vega-lite\"))\n        .then(() => loadScript(\"vega-embed\"))\n        .catch(showError)\n        .then(() => displayChart(vegaEmbed));\n    }\n  })({\"config\": {\"view\": {\"continuousWidth\": 400, \"continuousHeight\": 300}, \"area\": {\"fill\": \"#51C0E9\"}, \"axis\": {\"labelFont\": \"Inter, sans-serif\", \"labelFontSize\": 12, \"labelFontWeight\": \"normal\", \"labelLimit\": 60, \"labelOverlap\": \"greedy\", \"titleFont\": \"Inter, sans-serif\", \"titleFontSize\": 12, \"titleFontWeight\": \"bold\"}, \"background\": \"#ffffff\", \"legend\": {\"labelFont\": \"Inter, sans-serif\", \"labelFontSize\": 12, \"titleFont\": \"Inter, sans-serif\", \"titleFontSize\": 12, \"titleFontWeight\": \"bold\"}, \"line\": {\"stroke\": \"#51C0E9\", \"strokeWidth\": 2}, \"rect\": {\"fill\": \"#51C0E9\"}, \"title\": {\"anchor\": \"start\", \"color\": \"#000000\", \"font\": \"Inter, sans-serif\", \"fontSize\": 22, \"fontWeight\": \"normal\"}}, \"data\": {\"name\": \"data-0d0a84486f854c61b628636fb5cc0b7e\"}, \"mark\": {\"type\": \"bar\", \"tooltip\": {\"content\": \"data\"}}, \"autosize\": {\"type\": \"fit\"}, \"encoding\": {\"color\": {\"type\": \"nominal\", \"field\": \"\", \"scale\": {\"type\": \"linear\", \"zero\": false}, \"sort\": null}, \"x\": {\"type\": \"nominal\", \"field\": \"Apellido\", \"scale\": {\"type\": \"linear\", \"zero\": false}, \"sort\": null}, \"y\": {\"type\": \"quantitative\", \"field\": \"Edad\", \"scale\": {\"type\": \"linear\", \"zero\": true}, \"sort\": null}}, \"height\": 300, \"width\": \"container\", \"$schema\": \"https://vega.github.io/schema/vega-lite/v4.json\", \"datasets\": {\"data-0d0a84486f854c61b628636fb5cc0b7e\": [{\"Nombre\": \"Alejandro\", \"Apellido\": \"Valle\", \"Edad\": 26, \"Hobby\": \"Leer\", \"Altura\": 177, \"Carrera\": \"Econom\\u00eda\"}, {\"Nombre\": \"Aleph\", \"Apellido\": \"Gonz\\u00e1lez\", \"Edad\": 38, \"Hobby\": \"Leer\", \"Altura\": 171, \"Carrera\": \"Administraci\\u00f3n\"}, {\"Nombre\": \"Chrystian\", \"Apellido\": \"Delgado\", \"Edad\": 32, \"Hobby\": \"Rugby\", \"Altura\": 178, \"Carrera\": \"Econom\\u00eda\"}, {\"Nombre\": \"Itzel\", \"Apellido\": \"NV\", \"Edad\": 25, \"Hobby\": \"NV\", \"Altura\": 0, \"Carrera\": \"NV\"}, {\"Nombre\": \"Jaquie\", \"Apellido\": \"Garc\\u00eda\", \"Edad\": 26, \"Hobby\": \"Nadar\", \"Altura\": 160, \"Carrera\": \"Actuar\\u00eda\"}, {\"Nombre\": \"Karen\", \"Apellido\": \"Roldan\", \"Edad\": 21, \"Hobby\": \"Bailar\", \"Altura\": 159, \"Carrera\": \"Actuar\\u00eda\"}, {\"Nombre\": \"Elizabeth\", \"Apellido\": \"L\\u00f3pez\", \"Edad\": 26, \"Hobby\": \"Soccer\", \"Altura\": 157, \"Carrera\": \"Actuar\\u00eda\"}, {\"Nombre\": \"Marcos\", \"Apellido\": \"NV\", \"Edad\": 26, \"Hobby\": \"NV\", \"Altura\": 0, \"Carrera\": \"NV\"}, {\"Nombre\": \"Mayra\", \"Apellido\": \"Gama\", \"Edad\": 25, \"Hobby\": \"Cine\", \"Altura\": 163, \"Carrera\": \"Actuar\\u00eda\"}, {\"Nombre\": \"Miguel Angel\", \"Apellido\": \"Contreras\", \"Edad\": 33, \"Hobby\": \"Cine\", \"Altura\": 182, \"Carrera\": \"Econom\\u00eda\"}, {\"Nombre\": \"Olivia\", \"Apellido\": \"Tejada\", \"Edad\": 30, \"Hobby\": \"Bailar\", \"Altura\": 152, \"Carrera\": \"Actuar\\u00eda\"}, {\"Nombre\": \"Humberto\", \"Apellido\": \"Salgado\", \"Edad\": 25, \"Hobby\": \"Ver series\", \"Altura\": 170, \"Carrera\": \"Sistemas Computacionales\"}, {\"Nombre\": \"Salvador\", \"Apellido\": \"Jimenez\", \"Edad\": 25, \"Hobby\": \"Leer\", \"Altura\": 175, \"Carrera\": \"Actuar\\u00eda\"}, {\"Nombre\": \"Yahaira\", \"Apellido\": \"Velasco\", \"Edad\": 30, \"Hobby\": \"Videojuegos\", \"Altura\": 156, \"Carrera\": \"Actuar\\u00eda\"}, {\"Nombre\": \"Angel\", \"Apellido\": \"Ram\\u00edrez\", \"Edad\": 29, \"Hobby\": \"Escribir\", \"Altura\": 174, \"Carrera\": \"Ciencia Pol\\u00edtica\"}, {\"Nombre\": \"Yesica\", \"Apellido\": \"Castro\", \"Edad\": 22, \"Hobby\": \"Pel\\u00edculas\", \"Altura\": 158, \"Carrera\": \"Actuar\\u00eda\"}, {\"Nombre\": \"Luis\", \"Apellido\": \"S\\u00e1nchez\", \"Edad\": 21, \"Hobby\": \"Series\", \"Altura\": 170, \"Carrera\": \"Actuar\\u00eda\"}, {\"Nombre\": \"Estefania\", \"Apellido\": \"Reyes\", \"Edad\": 24, \"Hobby\": \"Leer\", \"Altura\": 162, \"Carrera\": \"Actuar\\u00eda\"}, {\"Nombre\": \"Adrian\", \"Apellido\": \"Santuario\", \"Edad\": 31, \"Hobby\": \"Dormir\", \"Altura\": 170, \"Carrera\": \"Fisica\"}, {\"Nombre\": \"Maximino\", \"Apellido\": \"Valparaiso\", \"Edad\": 24, \"Hobby\": \"Ver series\", \"Altura\": 160, \"Carrera\": \"Sistemas computacionales\"}, {\"Nombre\": \"Maria\", \"Apellido\": \"Garcia\", \"Edad\": 23, \"Hobby\": \"Dormir\", \"Altura\": 160, \"Carrera\": \"Actuar\\u00eda\"}]}}, {\"actions\": false, \"mode\": \"vega-lite\"});\n</script>",
      "text/plain": "alt.Chart(...)"
     },
     "metadata": {}
    }
   ],
   "execution_count": 12
  },
  {
   "cell_type": "code",
   "source": "nosotros_df.shape",
   "metadata": {
    "cell_id": "4b3f2ec2cc9243669c3a3c49eea80d42",
    "tags": [],
    "deepnote_to_be_reexecuted": false,
    "source_hash": "3adf7ed7",
    "execution_start": 1650648143462,
    "execution_millis": 12,
    "deepnote_cell_type": "code",
    "deepnote_cell_height": 118.1875,
    "deepnote_output_heights": [
     21.1875
    ]
   },
   "outputs": [
    {
     "output_type": "execute_result",
     "execution_count": 15,
     "data": {
      "text/plain": "(21, 6)"
     },
     "metadata": {}
    }
   ],
   "execution_count": 15
  },
  {
   "cell_type": "code",
   "source": "nosotros_df.Apellido",
   "metadata": {
    "cell_id": "53540cf21b2e41d8ba1c6244e4af5628",
    "tags": [],
    "deepnote_to_be_reexecuted": false,
    "source_hash": "6dcd086b",
    "execution_start": 1650648192572,
    "execution_millis": 3,
    "deepnote_cell_type": "code",
    "deepnote_cell_height": 521.125,
    "deepnote_output_heights": [
     424.125
    ]
   },
   "outputs": [
    {
     "output_type": "execute_result",
     "execution_count": 16,
     "data": {
      "text/plain": "0       Castillo\n1       González\n2        Delgado\n3             NV\n4         García\n5         Roldan\n6          López\n7             NV\n8           Gama\n9      Contreras\n10        Tejada\n11       Salgado\n12       Jimenez\n13       Velasco\n14       Ramírez\n15        Castro\n16       Sánchez\n17         Reyes\n18     Santuario\n19    Valparaiso\n20        Garcia\nName: Apellido, dtype: object"
     },
     "metadata": {}
    }
   ],
   "execution_count": 16
  },
  {
   "cell_type": "code",
   "source": "nosotros_df[\"Apellido\"]",
   "metadata": {
    "cell_id": "05229eabd5454c259513012d4dd2bb86",
    "tags": [],
    "deepnote_to_be_reexecuted": false,
    "source_hash": "f5b4ef39",
    "execution_start": 1650648208021,
    "execution_millis": 4,
    "deepnote_cell_type": "code",
    "deepnote_cell_height": 521.125,
    "deepnote_output_heights": [
     424.125
    ]
   },
   "outputs": [
    {
     "output_type": "execute_result",
     "execution_count": 17,
     "data": {
      "text/plain": "0       Castillo\n1       González\n2        Delgado\n3             NV\n4         García\n5         Roldan\n6          López\n7             NV\n8           Gama\n9      Contreras\n10        Tejada\n11       Salgado\n12       Jimenez\n13       Velasco\n14       Ramírez\n15        Castro\n16       Sánchez\n17         Reyes\n18     Santuario\n19    Valparaiso\n20        Garcia\nName: Apellido, dtype: object"
     },
     "metadata": {}
    }
   ],
   "execution_count": 17
  },
  {
   "cell_type": "code",
   "source": "personas_actuarias_df = nosotros_df[nosotros_df[\"Carrera\"] == \"Actuaría\"]",
   "metadata": {
    "cell_id": "ed5f6af57ee54e098b3ad3ef92f17ff2",
    "tags": [],
    "deepnote_to_be_reexecuted": false,
    "source_hash": "1d7880d6",
    "execution_start": 1650648478851,
    "execution_millis": 0,
    "deepnote_cell_type": "code",
    "deepnote_cell_height": 81
   },
   "outputs": [],
   "execution_count": 24
  },
  {
   "cell_type": "code",
   "source": "personas_actuarias_df",
   "metadata": {
    "cell_id": "5985609b7db8478ebd8b6aa31eaae0be",
    "tags": [],
    "deepnote_to_be_reexecuted": false,
    "source_hash": "8729c78b",
    "execution_start": 1650648482468,
    "execution_millis": 112,
    "deepnote_cell_type": "code",
    "deepnote_cell_height": 600
   },
   "outputs": [
    {
     "output_type": "execute_result",
     "execution_count": 25,
     "data": {
      "application/vnd.deepnote.dataframe.v3+json": {
       "column_count": 6,
       "row_count": 21,
       "columns": [
        {
         "name": "Nombre",
         "dtype": "object",
         "stats": {
          "unique_count": 21,
          "nan_count": 0,
          "categories": [
           {
            "name": "Raul",
            "count": 1
           },
           {
            "name": "Aleph",
            "count": 1
           },
           {
            "name": "19 others",
            "count": 19
           }
          ]
         }
        },
        {
         "name": "Apellido",
         "dtype": "object",
         "stats": {
          "unique_count": 20,
          "nan_count": 0,
          "categories": [
           {
            "name": "NV",
            "count": 2
           },
           {
            "name": "Castillo",
            "count": 1
           },
           {
            "name": "18 others",
            "count": 18
           }
          ]
         }
        },
        {
         "name": "Edad",
         "dtype": "int64",
         "stats": {
          "unique_count": 12,
          "nan_count": 0,
          "min": "21",
          "max": "38",
          "histogram": [
           {
            "bin_start": 21,
            "bin_end": 22.7,
            "count": 3
           },
           {
            "bin_start": 22.7,
            "bin_end": 24.4,
            "count": 3
           },
           {
            "bin_start": 24.4,
            "bin_end": 26.1,
            "count": 7
           },
           {
            "bin_start": 26.1,
            "bin_end": 27.8,
            "count": 0
           },
           {
            "bin_start": 27.8,
            "bin_end": 29.5,
            "count": 1
           },
           {
            "bin_start": 29.5,
            "bin_end": 31.2,
            "count": 3
           },
           {
            "bin_start": 31.2,
            "bin_end": 32.9,
            "count": 2
           },
           {
            "bin_start": 32.9,
            "bin_end": 34.6,
            "count": 1
           },
           {
            "bin_start": 34.6,
            "bin_end": 36.3,
            "count": 0
           },
           {
            "bin_start": 36.3,
            "bin_end": 38,
            "count": 1
           }
          ]
         }
        },
        {
         "name": "Hobby",
         "dtype": "object",
         "stats": {
          "unique_count": 14,
          "nan_count": 0,
          "categories": [
           {
            "name": "Leer",
            "count": 3
           },
           {
            "name": "NV",
            "count": 2
           },
           {
            "name": "12 others",
            "count": 16
           }
          ]
         }
        },
        {
         "name": "Altura",
         "dtype": "int64",
         "stats": {
          "unique_count": 16,
          "nan_count": 0,
          "min": "0",
          "max": "182",
          "histogram": [
           {
            "bin_start": 0,
            "bin_end": 18.2,
            "count": 2
           },
           {
            "bin_start": 18.2,
            "bin_end": 36.4,
            "count": 0
           },
           {
            "bin_start": 36.4,
            "bin_end": 54.599999999999994,
            "count": 0
           },
           {
            "bin_start": 54.599999999999994,
            "bin_end": 72.8,
            "count": 0
           },
           {
            "bin_start": 72.8,
            "bin_end": 91,
            "count": 0
           },
           {
            "bin_start": 91,
            "bin_end": 109.19999999999999,
            "count": 0
           },
           {
            "bin_start": 109.19999999999999,
            "bin_end": 127.39999999999999,
            "count": 0
           },
           {
            "bin_start": 127.39999999999999,
            "bin_end": 145.6,
            "count": 0
           },
           {
            "bin_start": 145.6,
            "bin_end": 163.79999999999998,
            "count": 10
           },
           {
            "bin_start": 163.79999999999998,
            "bin_end": 182,
            "count": 9
           }
          ]
         }
        },
        {
         "name": "Carrera",
         "dtype": "object",
         "stats": {
          "unique_count": 1,
          "nan_count": 0,
          "categories": [
           {
            "name": "Actuaría",
            "count": 21
           }
          ]
         }
        },
        {
         "name": "_deepnote_index_column",
         "dtype": "int64"
        }
       ],
       "rows": [
        {
         "Nombre": "Raul",
         "Apellido": "Castillo",
         "Edad": 32,
         "Hobby": "Ejercicio",
         "Altura": 167,
         "Carrera": "Actuaría",
         "_deepnote_index_column": 0
        },
        {
         "Nombre": "Aleph",
         "Apellido": "González",
         "Edad": 38,
         "Hobby": "Leer",
         "Altura": 171,
         "Carrera": "Actuaría",
         "_deepnote_index_column": 1
        },
        {
         "Nombre": "Chrystian",
         "Apellido": "Delgado",
         "Edad": 32,
         "Hobby": "Rugby",
         "Altura": 178,
         "Carrera": "Actuaría",
         "_deepnote_index_column": 2
        },
        {
         "Nombre": "Itzel",
         "Apellido": "NV",
         "Edad": 25,
         "Hobby": "NV",
         "Altura": 0,
         "Carrera": "Actuaría",
         "_deepnote_index_column": 3
        },
        {
         "Nombre": "Jaquie",
         "Apellido": "García",
         "Edad": 26,
         "Hobby": "Nadar",
         "Altura": 160,
         "Carrera": "Actuaría",
         "_deepnote_index_column": 4
        },
        {
         "Nombre": "Karen",
         "Apellido": "Roldan",
         "Edad": 21,
         "Hobby": "Bailar",
         "Altura": 159,
         "Carrera": "Actuaría",
         "_deepnote_index_column": 5
        },
        {
         "Nombre": "Elizabeth",
         "Apellido": "López",
         "Edad": 26,
         "Hobby": "Soccer",
         "Altura": 157,
         "Carrera": "Actuaría",
         "_deepnote_index_column": 6
        },
        {
         "Nombre": "Marcos",
         "Apellido": "NV",
         "Edad": 26,
         "Hobby": "NV",
         "Altura": 0,
         "Carrera": "Actuaría",
         "_deepnote_index_column": 7
        },
        {
         "Nombre": "Mayra",
         "Apellido": "Gama",
         "Edad": 25,
         "Hobby": "Cine",
         "Altura": 163,
         "Carrera": "Actuaría",
         "_deepnote_index_column": 8
        },
        {
         "Nombre": "Miguel Angel",
         "Apellido": "Contreras",
         "Edad": 33,
         "Hobby": "Cine",
         "Altura": 182,
         "Carrera": "Actuaría",
         "_deepnote_index_column": 9
        }
       ]
      },
      "text/plain": "          Nombre    Apellido  Edad        Hobby  Altura   Carrera\n0           Raul    Castillo    32    Ejercicio     167  Actuaría\n1          Aleph    González    38         Leer     171  Actuaría\n2      Chrystian     Delgado    32        Rugby     178  Actuaría\n3          Itzel          NV    25           NV       0  Actuaría\n4         Jaquie      García    26        Nadar     160  Actuaría\n5          Karen      Roldan    21       Bailar     159  Actuaría\n6      Elizabeth       López    26       Soccer     157  Actuaría\n7         Marcos          NV    26           NV       0  Actuaría\n8          Mayra        Gama    25         Cine     163  Actuaría\n9   Miguel Angel   Contreras    33         Cine     182  Actuaría\n10        Olivia      Tejada    30       Bailar     152  Actuaría\n11      Humberto     Salgado    25   Ver series     170  Actuaría\n12      Salvador     Jimenez    25         Leer     175  Actuaría\n13       Yahaira     Velasco    30  Videojuegos     156  Actuaría\n14         Angel     Ramírez    29     Escribir     174  Actuaría\n15        Yesica      Castro    22    Películas     158  Actuaría\n16          Luis     Sánchez    21       Series     170  Actuaría\n17     Estefania       Reyes    24         Leer     162  Actuaría\n18        Adrian   Santuario    31       Dormir     170  Actuaría\n19      Maximino  Valparaiso    24   Ver series     160  Actuaría\n20         Maria      Garcia    23       Dormir     160  Actuaría",
      "text/html": "<div>\n<style scoped>\n    .dataframe tbody tr th:only-of-type {\n        vertical-align: middle;\n    }\n\n    .dataframe tbody tr th {\n        vertical-align: top;\n    }\n\n    .dataframe thead th {\n        text-align: right;\n    }\n</style>\n<table border=\"1\" class=\"dataframe\">\n  <thead>\n    <tr style=\"text-align: right;\">\n      <th></th>\n      <th>Nombre</th>\n      <th>Apellido</th>\n      <th>Edad</th>\n      <th>Hobby</th>\n      <th>Altura</th>\n      <th>Carrera</th>\n    </tr>\n  </thead>\n  <tbody>\n    <tr>\n      <th>0</th>\n      <td>Raul</td>\n      <td>Castillo</td>\n      <td>32</td>\n      <td>Ejercicio</td>\n      <td>167</td>\n      <td>Actuaría</td>\n    </tr>\n    <tr>\n      <th>1</th>\n      <td>Aleph</td>\n      <td>González</td>\n      <td>38</td>\n      <td>Leer</td>\n      <td>171</td>\n      <td>Actuaría</td>\n    </tr>\n    <tr>\n      <th>2</th>\n      <td>Chrystian</td>\n      <td>Delgado</td>\n      <td>32</td>\n      <td>Rugby</td>\n      <td>178</td>\n      <td>Actuaría</td>\n    </tr>\n    <tr>\n      <th>3</th>\n      <td>Itzel</td>\n      <td>NV</td>\n      <td>25</td>\n      <td>NV</td>\n      <td>0</td>\n      <td>Actuaría</td>\n    </tr>\n    <tr>\n      <th>4</th>\n      <td>Jaquie</td>\n      <td>García</td>\n      <td>26</td>\n      <td>Nadar</td>\n      <td>160</td>\n      <td>Actuaría</td>\n    </tr>\n    <tr>\n      <th>5</th>\n      <td>Karen</td>\n      <td>Roldan</td>\n      <td>21</td>\n      <td>Bailar</td>\n      <td>159</td>\n      <td>Actuaría</td>\n    </tr>\n    <tr>\n      <th>6</th>\n      <td>Elizabeth</td>\n      <td>López</td>\n      <td>26</td>\n      <td>Soccer</td>\n      <td>157</td>\n      <td>Actuaría</td>\n    </tr>\n    <tr>\n      <th>7</th>\n      <td>Marcos</td>\n      <td>NV</td>\n      <td>26</td>\n      <td>NV</td>\n      <td>0</td>\n      <td>Actuaría</td>\n    </tr>\n    <tr>\n      <th>8</th>\n      <td>Mayra</td>\n      <td>Gama</td>\n      <td>25</td>\n      <td>Cine</td>\n      <td>163</td>\n      <td>Actuaría</td>\n    </tr>\n    <tr>\n      <th>9</th>\n      <td>Miguel Angel</td>\n      <td>Contreras</td>\n      <td>33</td>\n      <td>Cine</td>\n      <td>182</td>\n      <td>Actuaría</td>\n    </tr>\n    <tr>\n      <th>10</th>\n      <td>Olivia</td>\n      <td>Tejada</td>\n      <td>30</td>\n      <td>Bailar</td>\n      <td>152</td>\n      <td>Actuaría</td>\n    </tr>\n    <tr>\n      <th>11</th>\n      <td>Humberto</td>\n      <td>Salgado</td>\n      <td>25</td>\n      <td>Ver series</td>\n      <td>170</td>\n      <td>Actuaría</td>\n    </tr>\n    <tr>\n      <th>12</th>\n      <td>Salvador</td>\n      <td>Jimenez</td>\n      <td>25</td>\n      <td>Leer</td>\n      <td>175</td>\n      <td>Actuaría</td>\n    </tr>\n    <tr>\n      <th>13</th>\n      <td>Yahaira</td>\n      <td>Velasco</td>\n      <td>30</td>\n      <td>Videojuegos</td>\n      <td>156</td>\n      <td>Actuaría</td>\n    </tr>\n    <tr>\n      <th>14</th>\n      <td>Angel</td>\n      <td>Ramírez</td>\n      <td>29</td>\n      <td>Escribir</td>\n      <td>174</td>\n      <td>Actuaría</td>\n    </tr>\n    <tr>\n      <th>15</th>\n      <td>Yesica</td>\n      <td>Castro</td>\n      <td>22</td>\n      <td>Películas</td>\n      <td>158</td>\n      <td>Actuaría</td>\n    </tr>\n    <tr>\n      <th>16</th>\n      <td>Luis</td>\n      <td>Sánchez</td>\n      <td>21</td>\n      <td>Series</td>\n      <td>170</td>\n      <td>Actuaría</td>\n    </tr>\n    <tr>\n      <th>17</th>\n      <td>Estefania</td>\n      <td>Reyes</td>\n      <td>24</td>\n      <td>Leer</td>\n      <td>162</td>\n      <td>Actuaría</td>\n    </tr>\n    <tr>\n      <th>18</th>\n      <td>Adrian</td>\n      <td>Santuario</td>\n      <td>31</td>\n      <td>Dormir</td>\n      <td>170</td>\n      <td>Actuaría</td>\n    </tr>\n    <tr>\n      <th>19</th>\n      <td>Maximino</td>\n      <td>Valparaiso</td>\n      <td>24</td>\n      <td>Ver series</td>\n      <td>160</td>\n      <td>Actuaría</td>\n    </tr>\n    <tr>\n      <th>20</th>\n      <td>Maria</td>\n      <td>Garcia</td>\n      <td>23</td>\n      <td>Dormir</td>\n      <td>160</td>\n      <td>Actuaría</td>\n    </tr>\n  </tbody>\n</table>\n</div>"
     },
     "metadata": {}
    }
   ],
   "execution_count": 25
  },
  {
   "cell_type": "code",
   "source": "personas_actuarias_df.shape",
   "metadata": {
    "cell_id": "8e8a7d0962b0427fa925c7bd2917d216",
    "tags": [],
    "deepnote_to_be_reexecuted": false,
    "source_hash": "87dcdf5d",
    "execution_start": 1650648544475,
    "execution_millis": 17,
    "deepnote_cell_type": "code",
    "deepnote_cell_height": 118.1875,
    "deepnote_output_heights": [
     21.1875
    ]
   },
   "outputs": [
    {
     "output_type": "execute_result",
     "execution_count": 26,
     "data": {
      "text/plain": "(21, 6)"
     },
     "metadata": {}
    }
   ],
   "execution_count": 26
  },
  {
   "cell_type": "code",
   "source": "numero_personas_actuarias = personas_actuarias_df.shape[0]",
   "metadata": {
    "cell_id": "076468d0fe4f476d99cb4d5fe4675ee3",
    "tags": [],
    "deepnote_to_be_reexecuted": false,
    "source_hash": "e8475dfa",
    "execution_start": 1650648628949,
    "execution_millis": 1,
    "deepnote_cell_type": "code",
    "deepnote_cell_height": 81
   },
   "outputs": [],
   "execution_count": 27
  },
  {
   "cell_type": "code",
   "source": "numero_personas_actuarias",
   "metadata": {
    "cell_id": "4d7cba90f9a4456e901caf577ee70f68",
    "tags": [],
    "deepnote_to_be_reexecuted": false,
    "source_hash": "93a693e4",
    "execution_start": 1650648633352,
    "execution_millis": 3,
    "deepnote_cell_type": "code",
    "deepnote_cell_height": 97
   },
   "outputs": [
    {
     "output_type": "execute_result",
     "execution_count": 28,
     "data": {
      "text/plain": "21"
     },
     "metadata": {}
    }
   ],
   "execution_count": 28
  },
  {
   "cell_type": "code",
   "source": "",
   "metadata": {
    "cell_id": "bfb3f4e0abfc49a59cce3bffa386fba9",
    "tags": [],
    "owner_user_id": "98e35b16-35a9-4eb0-983e-8181c99da5ed",
    "deepnote_cell_type": "code",
    "deepnote_cell_height": 66
   },
   "outputs": [],
   "execution_count": null
  },
  {
   "cell_type": "code",
   "source": "",
   "metadata": {
    "cell_id": "8f39093079a94cea91e7f2e18384b5ca",
    "tags": [],
    "deepnote_cell_type": "code",
    "deepnote_cell_height": 66
   },
   "outputs": [],
   "execution_count": null
  },
  {
   "cell_type": "code",
   "source": "",
   "metadata": {
    "cell_id": "b72f9fce76ab4ccdaf992fb416ae66b5",
    "tags": [],
    "deepnote_cell_type": "code",
    "deepnote_cell_height": 66
   },
   "outputs": [],
   "execution_count": null
  },
  {
   "cell_type": "code",
   "source": "",
   "metadata": {
    "cell_id": "d2070cd881424452a0c4dfb3b821f70d",
    "tags": [],
    "deepnote_cell_type": "code",
    "deepnote_cell_height": 66
   },
   "outputs": [],
   "execution_count": null
  },
  {
   "cell_type": "code",
   "source": "",
   "metadata": {
    "cell_id": "c693b51b7ae24358867c3fa1e0ddc639",
    "tags": [],
    "deepnote_cell_type": "code",
    "deepnote_cell_height": 66
   },
   "outputs": [],
   "execution_count": null
  },
  {
   "cell_type": "code",
   "source": "",
   "metadata": {
    "cell_id": "c1c717988c584ea3bb2c2e722635addd",
    "tags": [],
    "deepnote_cell_type": "code",
    "deepnote_cell_height": 66
   },
   "outputs": [],
   "execution_count": null
  },
  {
   "cell_type": "code",
   "source": "",
   "metadata": {
    "cell_id": "b30977528bbc4d4ca63e4165198d39af",
    "tags": [],
    "deepnote_cell_type": "code",
    "deepnote_cell_height": 66
   },
   "outputs": [],
   "execution_count": null
  },
  {
   "cell_type": "markdown",
   "source": "<a style='text-decoration:none;line-height:16px;display:flex;color:#5B5B62;padding:10px;justify-content:end;' href='https://deepnote.com?utm_source=created-in-deepnote-cell&projectId=0302a3e7-dae1-45f7-aafd-5ff4e7b00e69' target=\"_blank\">\n<img alt='Created in deepnote.com' style='display:inline;max-height:16px;margin:0px;margin-right:7.5px;' src='data:image/svg+xml;base64,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' > </img>\nCreated in <span style='font-weight:600;margin-left:4px;'>Deepnote</span></a>",
   "metadata": {
    "tags": [],
    "created_in_deepnote_cell": true,
    "deepnote_cell_type": "markdown"
   }
  }
 ],
 "nbformat": 4,
 "nbformat_minor": 4,
 "metadata": {
  "kernelspec": {
   "display_name": "Python 3",
   "language": "python",
   "name": "python3"
  },
  "language_info": {
   "codemirror_mode": {
    "name": "ipython",
    "version": 3
   },
   "file_extension": ".py",
   "mimetype": "text/x-python",
   "name": "python",
   "nbconvert_exporter": "python",
   "pygments_lexer": "ipython3",
   "version": "3.7.3"
  },
  "deepnote_notebook_id": "fdb1e7ed-0c2f-444b-a6c2-89a311fa7ed8",
  "deepnote": {},
  "deepnote_execution_queue": []
 }
}